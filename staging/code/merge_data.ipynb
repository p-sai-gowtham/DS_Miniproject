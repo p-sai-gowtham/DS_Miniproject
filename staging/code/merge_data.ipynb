{
 "cells": [
  {
   "cell_type": "markdown",
   "metadata": {},
   "source": [
    "# Create Master Dataset"
   ]
  },
  {
   "cell_type": "markdown",
   "metadata": {},
   "source": [
    "## Importing the libraries "
   ]
  },
  {
   "cell_type": "code",
   "execution_count": null,
   "metadata": {},
   "outputs": [],
   "source": [
    "import pandas as pd"
   ]
  },
  {
   "cell_type": "markdown",
   "metadata": {},
   "source": [
    "## Importing the dataset"
   ]
  },
  {
   "cell_type": "code",
   "execution_count": null,
   "metadata": {},
   "outputs": [],
   "source": [
    "customer_df = pd.read_csv(\"../data_set/cleaned_customer.csv\")\n",
    "expansion_df = pd.read_csv(\"../data_set/cleaned_expansion_outcome.csv\")\n",
    "products_df = pd.read_csv(\"../data_set/cleaned_product.csv\")\n",
    "utilization_df = pd.read_csv(\"../data_set/cleaned_utilization.csv\")\n",
    "feedback_df = pd.read_csv(\"../data_set/cleaned_customer_feedback.csv\")"
   ]
  },
  {
   "cell_type": "markdown",
   "metadata": {},
   "source": [
    "## Merge Data sets"
   ]
  },
  {
   "cell_type": "code",
   "execution_count": null,
   "metadata": {},
   "outputs": [],
   "source": [
    "master_df = customer_df\n",
    "master_df = master_df.merge(expansion_df, on=[\"id\", \"score_date\"], how=\"left\")\n",
    "master_df = master_df.merge(products_df, on=[\"id\", \"score_date\"], how=\"left\")\n",
    "master_df = master_df.merge(utilization_df, on=[\"id\", \"score_date\"], how=\"left\")\n",
    "master_df = master_df.merge(feedback_df, on=[\"id\", \"score_date\"], how=\"left\")"
   ]
  },
  {
   "cell_type": "markdown",
   "metadata": {},
   "source": [
    "## Convert to CSV"
   ]
  },
  {
   "cell_type": "code",
   "execution_count": null,
   "metadata": {},
   "outputs": [
    {
     "name": "stdout",
     "output_type": "stream",
     "text": [
      "Merged dataset created successfully.\n"
     ]
    }
   ],
   "source": [
    "master_df.to_csv(\"../data_set/master_dataset.csv\", index=False)"
   ]
  }
 ],
 "metadata": {
  "kernelspec": {
   "display_name": ".venv",
   "language": "python",
   "name": "python3"
  },
  "language_info": {
   "codemirror_mode": {
    "name": "ipython",
    "version": 3
   },
   "file_extension": ".py",
   "mimetype": "text/x-python",
   "name": "python",
   "nbconvert_exporter": "python",
   "pygments_lexer": "ipython3",
   "version": "3.10.11"
  }
 },
 "nbformat": 4,
 "nbformat_minor": 2
}
