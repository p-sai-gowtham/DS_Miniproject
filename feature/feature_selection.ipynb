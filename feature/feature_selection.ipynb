{
 "cells": [
  {
   "cell_type": "code",
   "execution_count": 1,
   "metadata": {},
   "outputs": [],
   "source": [
    "import pandas as pd\n",
    "from sklearn.feature_selection import SelectKBest, f_classif,SequentialFeatureSelector\n",
    "import numpy as np\n",
    "import pandas as pd\n",
    "from sklearn.model_selection import train_test_split\n",
    "from sklearn.preprocessing import StandardScaler\n",
    "from sklearn.linear_model import LogisticRegression\n",
    "from sklearn.ensemble import RandomForestClassifier\n",
    "\n",
    "from sklearn.metrics import accuracy_score, classification_report\n",
    "from imblearn.over_sampling import SMOTE\n",
    "from collections import Counter\n",
    "\n"
   ]
  },
  {
   "cell_type": "code",
   "execution_count": 2,
   "metadata": {},
   "outputs": [],
   "source": [
    "\n",
    "data = pd.read_csv('../staging/data_set/master_dataset.csv')"
   ]
  },
  {
   "cell_type": "code",
   "execution_count": 3,
   "metadata": {},
   "outputs": [
    {
     "data": {
      "text/plain": [
       "(13417, 58)"
      ]
     },
     "execution_count": 3,
     "metadata": {},
     "output_type": "execute_result"
    }
   ],
   "source": [
    "data.shape"
   ]
  },
  {
   "cell_type": "code",
   "execution_count": 4,
   "metadata": {},
   "outputs": [],
   "source": [
    "data['arr_change'] = data['future_arr'] - data['current_arr']\n",
    "data['perc_change'] = (data['future_arr'] - data['current_arr']) / data['current_arr']\n",
    "data['churn_flag'] = (data['future_arr'] < data['current_arr'] * 0.8).astype(int)"
   ]
  },
  {
   "cell_type": "code",
   "execution_count": 5,
   "metadata": {},
   "outputs": [
    {
     "data": {
      "text/plain": [
       "churn_flag\n",
       "0    12769\n",
       "1      648\n",
       "Name: count, dtype: int64"
      ]
     },
     "execution_count": 5,
     "metadata": {},
     "output_type": "execute_result"
    }
   ],
   "source": [
    "data['churn_flag'].value_counts()"
   ]
  },
  {
   "cell_type": "code",
   "execution_count": 6,
   "metadata": {},
   "outputs": [
    {
     "data": {
      "text/plain": [
       "Index(['id', 'score_date', 'segment_smb', 'segment_non_smb',\n",
       "       'segment_commercial', 'segment_enterprise', 'segment_midmarket',\n",
       "       'region_emea', 'region_apac', 'region_latam', 'region_amer',\n",
       "       'customer_age_quarters', 'sales_assisted', 'legacy_flag',\n",
       "       'product_counts', 'billing_dunning_not_ok', 'crm_industry_current',\n",
       "       'crm_employee_range', 'crm_success_owner_change', 'current_arr',\n",
       "       'future_arr', 'arr_change', 'fx_impact', 'seat_change_arr',\n",
       "       'product_change_arr', 'discount_arr_usd', 'team_plus', 'pro_plus',\n",
       "       'ent_plus', 'discount_arr_usd_percentage', 'product_counts_percentage',\n",
       "       'total_pool_max_agents', 'max_seats', 'agent_utilization',\n",
       "       'is_provisioned_any_channel_M_before', 'max_seats_M_before',\n",
       "       'agent_utilization_increase', 'agent_utilization_decrease',\n",
       "       'seat_utilization', 'seat_utilization_M_before',\n",
       "       'seat_utilization_increase', 'seat_utilization_decrease', 'csat_score',\n",
       "       'csat_response_rate', 'nps_score', 'nps_score_all_time',\n",
       "       'avg_nps_rating', 'avg_nps_rating_all_time', 'outreach_call_90dayflag',\n",
       "       'num_low_sev_outages', 'num_high_sev_outages', 'has_high_sev_outage',\n",
       "       'months_since_high_sev_outage', 'num_tickets_deflected',\n",
       "       'max_tickets_per_agent', 'year_week', 'perc_change', 'churn_flag'],\n",
       "      dtype='object')"
      ]
     },
     "execution_count": 6,
     "metadata": {},
     "output_type": "execute_result"
    }
   ],
   "source": [
    "data.columns"
   ]
  },
  {
   "cell_type": "markdown",
   "metadata": {},
   "source": [
    "Label Encoding"
   ]
  },
  {
   "cell_type": "code",
   "execution_count": 7,
   "metadata": {},
   "outputs": [],
   "source": [
    "data = pd.get_dummies(data, columns=['crm_industry_current'])\n",
    "data.columns = data.columns.str.replace(' ', '_')\n",
    "data.drop(columns=['crm_industry_current'], errors='ignore', inplace=True)\n",
    "\n"
   ]
  },
  {
   "cell_type": "code",
   "execution_count": 8,
   "metadata": {},
   "outputs": [],
   "source": [
    "from sklearn.preprocessing import LabelEncoder\n",
    "\n",
    "le = LabelEncoder()\n",
    "data['crm_employee_range'] = le.fit_transform(data['crm_employee_range'])\n"
   ]
  },
  {
   "cell_type": "code",
   "execution_count": 9,
   "metadata": {},
   "outputs": [
    {
     "data": {
      "text/plain": [
       "Index(['id', 'score_date', 'segment_smb', 'segment_non_smb',\n",
       "       'segment_commercial', 'segment_enterprise', 'segment_midmarket',\n",
       "       'region_emea', 'region_apac', 'region_latam', 'region_amer',\n",
       "       'customer_age_quarters', 'sales_assisted', 'legacy_flag',\n",
       "       'product_counts', 'billing_dunning_not_ok', 'crm_employee_range',\n",
       "       'crm_success_owner_change', 'current_arr', 'future_arr', 'arr_change',\n",
       "       'fx_impact', 'seat_change_arr', 'product_change_arr',\n",
       "       'discount_arr_usd', 'team_plus', 'pro_plus', 'ent_plus',\n",
       "       'discount_arr_usd_percentage', 'product_counts_percentage',\n",
       "       'total_pool_max_agents', 'max_seats', 'agent_utilization',\n",
       "       'is_provisioned_any_channel_M_before', 'max_seats_M_before',\n",
       "       'agent_utilization_increase', 'agent_utilization_decrease',\n",
       "       'seat_utilization', 'seat_utilization_M_before',\n",
       "       'seat_utilization_increase', 'seat_utilization_decrease', 'csat_score',\n",
       "       'csat_response_rate', 'nps_score', 'nps_score_all_time',\n",
       "       'avg_nps_rating', 'avg_nps_rating_all_time', 'outreach_call_90dayflag',\n",
       "       'num_low_sev_outages', 'num_high_sev_outages', 'has_high_sev_outage',\n",
       "       'months_since_high_sev_outage', 'num_tickets_deflected',\n",
       "       'max_tickets_per_agent', 'year_week', 'perc_change', 'churn_flag',\n",
       "       'crm_industry_current_0', 'crm_industry_current_Consumer_Services',\n",
       "       'crm_industry_current_Corporate_Services',\n",
       "       'crm_industry_current_Education',\n",
       "       'crm_industry_current_Energy_&_Utilities',\n",
       "       'crm_industry_current_Financial_Services',\n",
       "       'crm_industry_current_Government', 'crm_industry_current_Healthcare',\n",
       "       'crm_industry_current_Manufacturing_&_Resources',\n",
       "       'crm_industry_current_Media_&_Entertainment',\n",
       "       'crm_industry_current_Non-Profits_&_Associations',\n",
       "       'crm_industry_current_Retail,_Wholesale_&_Distribution',\n",
       "       'crm_industry_current_Technology',\n",
       "       'crm_industry_current_Telecommunications',\n",
       "       'crm_industry_current_Transportation',\n",
       "       'crm_industry_current_Travel_&_Hospitality'],\n",
       "      dtype='object')"
      ]
     },
     "execution_count": 9,
     "metadata": {},
     "output_type": "execute_result"
    }
   ],
   "source": [
    "data.columns"
   ]
  },
  {
   "cell_type": "code",
   "execution_count": 10,
   "metadata": {},
   "outputs": [
    {
     "data": {
      "text/plain": [
       "(13417, 73)"
      ]
     },
     "execution_count": 10,
     "metadata": {},
     "output_type": "execute_result"
    }
   ],
   "source": [
    "data.shape"
   ]
  },
  {
   "cell_type": "markdown",
   "metadata": {},
   "source": [
    "Feature Grouping"
   ]
  },
  {
   "cell_type": "code",
   "execution_count": 11,
   "metadata": {},
   "outputs": [],
   "source": [
    "data['seat_utilization_change'] = data['seat_utilization'] - data['seat_utilization_M_before']\n",
    "data['max_seats_change'] = data['max_seats'] - data['max_seats_M_before']\n",
    "data = data.drop(columns=['seat_utilization','seat_utilization_M_before','max_seats','max_seats_M_before'])"
   ]
  },
  {
   "cell_type": "markdown",
   "metadata": {},
   "source": [
    "Feature Bucketing"
   ]
  },
  {
   "cell_type": "code",
   "execution_count": 12,
   "metadata": {},
   "outputs": [],
   "source": [
    "X1 = data.drop(columns=[\n",
    "    'id', 'score_date', 'perc_change', \n",
    "    'total_pool_max_agents', 'crm_success_owner_change', \n",
    "    'legacy_flag','year_week','crm_industry_current_0',\n",
    "    'discount_arr_usd_percentage', 'product_counts_percentage',\n",
    "    'discount_arr_usd'\n",
    "    \n",
    "], errors='ignore')"
   ]
  },
  {
   "cell_type": "code",
   "execution_count": 13,
   "metadata": {},
   "outputs": [
    {
     "data": {
      "text/plain": [
       "(13417, 60)"
      ]
     },
     "execution_count": 13,
     "metadata": {},
     "output_type": "execute_result"
    }
   ],
   "source": [
    "X1.shape"
   ]
  },
  {
   "cell_type": "code",
   "execution_count": 14,
   "metadata": {},
   "outputs": [
    {
     "data": {
      "text/plain": [
       "Index(['segment_smb', 'segment_non_smb', 'segment_commercial',\n",
       "       'segment_enterprise', 'segment_midmarket', 'region_emea', 'region_apac',\n",
       "       'region_latam', 'region_amer', 'customer_age_quarters',\n",
       "       'sales_assisted', 'product_counts', 'billing_dunning_not_ok',\n",
       "       'crm_employee_range', 'current_arr', 'future_arr', 'arr_change',\n",
       "       'fx_impact', 'seat_change_arr', 'product_change_arr', 'team_plus',\n",
       "       'pro_plus', 'ent_plus', 'agent_utilization',\n",
       "       'is_provisioned_any_channel_M_before', 'agent_utilization_increase',\n",
       "       'agent_utilization_decrease', 'seat_utilization_increase',\n",
       "       'seat_utilization_decrease', 'csat_score', 'csat_response_rate',\n",
       "       'nps_score', 'nps_score_all_time', 'avg_nps_rating',\n",
       "       'avg_nps_rating_all_time', 'outreach_call_90dayflag',\n",
       "       'num_low_sev_outages', 'num_high_sev_outages', 'has_high_sev_outage',\n",
       "       'months_since_high_sev_outage', 'num_tickets_deflected',\n",
       "       'max_tickets_per_agent', 'churn_flag',\n",
       "       'crm_industry_current_Consumer_Services',\n",
       "       'crm_industry_current_Corporate_Services',\n",
       "       'crm_industry_current_Education',\n",
       "       'crm_industry_current_Energy_&_Utilities',\n",
       "       'crm_industry_current_Financial_Services',\n",
       "       'crm_industry_current_Government', 'crm_industry_current_Healthcare',\n",
       "       'crm_industry_current_Manufacturing_&_Resources',\n",
       "       'crm_industry_current_Media_&_Entertainment',\n",
       "       'crm_industry_current_Non-Profits_&_Associations',\n",
       "       'crm_industry_current_Retail,_Wholesale_&_Distribution',\n",
       "       'crm_industry_current_Technology',\n",
       "       'crm_industry_current_Telecommunications',\n",
       "       'crm_industry_current_Transportation',\n",
       "       'crm_industry_current_Travel_&_Hospitality', 'seat_utilization_change',\n",
       "       'max_seats_change'],\n",
       "      dtype='object')"
      ]
     },
     "execution_count": 14,
     "metadata": {},
     "output_type": "execute_result"
    }
   ],
   "source": [
    "X1.columns"
   ]
  },
  {
   "cell_type": "code",
   "execution_count": 15,
   "metadata": {},
   "outputs": [
    {
     "name": "stdout",
     "output_type": "stream",
     "text": [
      "Columns in X:\n",
      "Index(['segment_smb', 'segment_non_smb', 'segment_commercial',\n",
      "       'segment_enterprise', 'segment_midmarket', 'region_emea', 'region_apac',\n",
      "       'region_latam', 'region_amer', 'customer_age_quarters',\n",
      "       'sales_assisted', 'product_counts', 'billing_dunning_not_ok',\n",
      "       'crm_employee_range', 'current_arr', 'future_arr', 'arr_change',\n",
      "       'fx_impact', 'seat_change_arr', 'product_change_arr', 'team_plus',\n",
      "       'pro_plus', 'ent_plus', 'agent_utilization',\n",
      "       'is_provisioned_any_channel_M_before', 'agent_utilization_increase',\n",
      "       'agent_utilization_decrease', 'seat_utilization_increase',\n",
      "       'seat_utilization_decrease', 'csat_score', 'csat_response_rate',\n",
      "       'nps_score', 'nps_score_all_time', 'avg_nps_rating',\n",
      "       'avg_nps_rating_all_time', 'outreach_call_90dayflag',\n",
      "       'num_low_sev_outages', 'num_high_sev_outages', 'has_high_sev_outage',\n",
      "       'months_since_high_sev_outage', 'num_tickets_deflected',\n",
      "       'max_tickets_per_agent', 'crm_industry_current_Consumer_Services',\n",
      "       'crm_industry_current_Corporate_Services',\n",
      "       'crm_industry_current_Education',\n",
      "       'crm_industry_current_Energy_&_Utilities',\n",
      "       'crm_industry_current_Financial_Services',\n",
      "       'crm_industry_current_Government', 'crm_industry_current_Healthcare',\n",
      "       'crm_industry_current_Manufacturing_&_Resources',\n",
      "       'crm_industry_current_Media_&_Entertainment',\n",
      "       'crm_industry_current_Non-Profits_&_Associations',\n",
      "       'crm_industry_current_Retail,_Wholesale_&_Distribution',\n",
      "       'crm_industry_current_Technology',\n",
      "       'crm_industry_current_Telecommunications',\n",
      "       'crm_industry_current_Transportation',\n",
      "       'crm_industry_current_Travel_&_Hospitality', 'seat_utilization_change',\n",
      "       'max_seats_change'],\n",
      "      dtype='object')\n",
      "\n",
      "Target column (y):\n",
      "churn_flag\n"
     ]
    }
   ],
   "source": [
    "\n",
    "# Define the target variable\n",
    "y = X1['churn_flag']\n",
    "# Define the feature variables (all columns except 'product_churn')\n",
    "X = X1.drop(columns=['churn_flag']) \n",
    "\n",
    "\n",
    "# Check columns in X\n",
    "print(\"Columns in X:\")\n",
    "print(X.columns)\n",
    "\n",
    "# Check the name of the target column (y)\n",
    "print(\"\\nTarget column (y):\")\n",
    "print(y.name)"
   ]
  },
  {
   "cell_type": "code",
   "execution_count": 16,
   "metadata": {},
   "outputs": [
    {
     "name": "stdout",
     "output_type": "stream",
     "text": [
      "Selected Features:\n",
      "Index(['sales_assisted', 'current_arr', 'arr_change', 'seat_change_arr',\n",
      "       'product_change_arr', 'pro_plus', 'ent_plus',\n",
      "       'is_provisioned_any_channel_M_before', 'seat_utilization_decrease',\n",
      "       'csat_score'],\n",
      "      dtype='object')\n",
      "Transformed Feature Matrix:\n",
      "[[0.000e+00 6.000e+01 0.000e+00 ... 1.000e+00 0.000e+00 0.000e+00]\n",
      " [0.000e+00 6.000e+01 0.000e+00 ... 1.000e+00 0.000e+00 0.000e+00]\n",
      " [0.000e+00 6.000e+01 0.000e+00 ... 1.000e+00 0.000e+00 0.000e+00]\n",
      " ...\n",
      " [0.000e+00 1.062e+04 0.000e+00 ... 1.300e+01 0.000e+00 0.000e+00]\n",
      " [0.000e+00 1.062e+04 0.000e+00 ... 1.300e+01 0.000e+00 0.000e+00]\n",
      " [0.000e+00 1.062e+04 0.000e+00 ... 1.300e+01 0.000e+00 0.000e+00]]\n"
     ]
    }
   ],
   "source": [
    "import pandas as pd\n",
    "\n",
    "# Perform feature selection\n",
    "selector = SelectKBest(score_func=f_classif, k=10)\n",
    "X_new = selector.fit_transform(X, y)\n",
    "\n",
    "# Get the selected feature indices\n",
    "selected_features = selector.get_support(indices=True)\n",
    "\n",
    "# Get the names of the selected features (if X is a DataFrame)\n",
    "if isinstance(X, pd.DataFrame):\n",
    "    feature_names = X.columns[selected_features]\n",
    "    print(\"Selected Features:\")\n",
    "    print(feature_names)\n",
    "else:\n",
    "    print(\"Selected feature indices:\")\n",
    "    print(selected_features)\n",
    "\n",
    "# Output the transformed feature matrix\n",
    "print(\"Transformed Feature Matrix:\")\n",
    "print(X_new)"
   ]
  },
  {
   "cell_type": "code",
   "execution_count": 23,
   "metadata": {},
   "outputs": [
    {
     "name": "stdout",
     "output_type": "stream",
     "text": [
      "Selected Features:\n",
      "Index(['current_arr', 'future_arr', 'arr_change', 'seat_change_arr',\n",
      "       'product_change_arr'],\n",
      "      dtype='object')\n",
      "\n",
      "Feature Rankings:\n",
      "                                              Feature  Ranking\n",
      "15                                         future_arr        1\n",
      "14                                        current_arr        1\n",
      "18                                    seat_change_arr        1\n",
      "16                                         arr_change        1\n",
      "19                                 product_change_arr        1\n",
      "39                       months_since_high_sev_outage        2\n",
      "24                is_provisioned_any_channel_M_before        3\n",
      "36                                num_low_sev_outages        4\n",
      "41                              max_tickets_per_agent        5\n",
      "17                                          fx_impact        6\n",
      "9                               customer_age_quarters        7\n",
      "30                                 csat_response_rate        8\n",
      "11                                     product_counts        9\n",
      "13                                 crm_employee_range       10\n",
      "23                                  agent_utilization       11\n",
      "10                                     sales_assisted       12\n",
      "34                            avg_nps_rating_all_time       13\n",
      "8                                         region_amer       14\n",
      "43            crm_industry_current_Corporate_Services       15\n",
      "5                                         region_emea       16\n",
      "21                                           pro_plus       17\n",
      "0                                         segment_smb       18\n",
      "29                                         csat_score       19\n",
      "4                                   segment_midmarket       20\n",
      "33                                     avg_nps_rating       21\n",
      "57                            seat_utilization_change       22\n",
      "32                                 nps_score_all_time       23\n",
      "46            crm_industry_current_Financial_Services       24\n",
      "2                                  segment_commercial       25\n",
      "22                                           ent_plus       26\n",
      "53                    crm_industry_current_Technology       27\n",
      "52  crm_industry_current_Retail,_Wholesale_&_Distr...       28\n",
      "1                                     segment_non_smb       29\n",
      "40                              num_tickets_deflected       30\n",
      "48                    crm_industry_current_Healthcare       31\n",
      "6                                         region_apac       32\n",
      "31                                          nps_score       33\n",
      "7                                        region_latam       34\n",
      "42             crm_industry_current_Consumer_Services       35\n",
      "58                                   max_seats_change       36\n",
      "26                         agent_utilization_decrease       37\n",
      "35                            outreach_call_90dayflag       38\n",
      "3                                  segment_enterprise       39\n",
      "49     crm_industry_current_Manufacturing_&_Resources       40\n",
      "44                     crm_industry_current_Education       41\n",
      "12                             billing_dunning_not_ok       42\n",
      "54            crm_industry_current_Telecommunications       43\n",
      "20                                          team_plus       44\n",
      "37                               num_high_sev_outages       45\n",
      "28                          seat_utilization_decrease       46\n",
      "45            crm_industry_current_Energy_&_Utilities       47\n",
      "27                          seat_utilization_increase       48\n",
      "38                                has_high_sev_outage       49\n",
      "50         crm_industry_current_Media_&_Entertainment       50\n",
      "25                         agent_utilization_increase       51\n",
      "55                crm_industry_current_Transportation       52\n",
      "47                    crm_industry_current_Government       53\n",
      "56          crm_industry_current_Travel_&_Hospitality       54\n",
      "51    crm_industry_current_Non-Profits_&_Associations       55\n"
     ]
    }
   ],
   "source": [
    "# import pandas as pd\n",
    "from sklearn.feature_selection import RFE\n",
    "from sklearn.ensemble import RandomForestClassifier\n",
    "\n",
    "# Assuming X is a DataFrame and y is the target variable\n",
    "estimator = RandomForestClassifier()\n",
    "selector = RFE(estimator, n_features_to_select=5, step=1)\n",
    "selector = selector.fit(X, y)\n",
    "\n",
    "# Get the ranking of features\n",
    "ranking = selector.ranking_\n",
    "\n",
    "# If X is a DataFrame, get the feature names\n",
    "if isinstance(X, pd.DataFrame):\n",
    "    feature_names = X.columns\n",
    "    selected_features = feature_names[selector.support_]  # Features selected by RFE\n",
    "    print(\"Selected Features:\")\n",
    "    print(selected_features)\n",
    "\n",
    "    # Display feature rankings\n",
    "    feature_ranking = pd.DataFrame({'Feature': feature_names, 'Ranking': ranking})\n",
    "    print(\"\\nFeature Rankings:\")\n",
    "    print(feature_ranking.sort_values(by='Ranking'))\n",
    "else:\n",
    "    print(\"Feature rankings (indices):\")\n",
    "    print(ranking)\n",
    "\n",
    "\n",
    "\n",
    "\n"
   ]
  },
  {
   "cell_type": "code",
   "execution_count": null,
   "metadata": {},
   "outputs": [],
   "source": [
    "\n",
    "\n",
    "# Assuming `estimator` is already defined (e.g., RandomForestClassifier)\n",
    "sfs = SequentialFeatureSelector(estimator, n_features_to_select=25, direction='forward')\n",
    "sfs.fit(X, y)\n",
    "\n",
    "# Get the selected feature mask\n",
    "selected_features_mask = sfs.get_support()\n",
    "\n",
    "# If X is a DataFrame, get the feature names\n",
    "if isinstance(X, pd.DataFrame):\n",
    "    feature_names = X.columns.to_numpy()  # Ensure it's a NumPy array\n",
    "    selected_features = feature_names[selected_features_mask]  # Selected features\n",
    "    non_selected_features = feature_names[~selected_features_mask]  # Non-selected features\n",
    "\n",
    "    print(\"Selected Features:\")\n",
    "    print(list(selected_features))\n",
    "\n",
    "    print(\"\\nNon-Selected Features:\")\n",
    "    print(list(non_selected_features))\n",
    "else:\n",
    "    print(\"Selected feature indices:\")\n",
    "    print([i for i, selected in enumerate(selected_features_mask) if selected])\n"
   ]
  },
  {
   "cell_type": "code",
   "execution_count": null,
   "metadata": {},
   "outputs": [
    {
     "name": "stdout",
     "output_type": "stream",
     "text": [
      "Balanced class distribution: Counter({0: 12769, 1: 12769})\n"
     ]
    }
   ],
   "source": [
    "# Apply SMOTE to balance the dataset\n",
    "from imblearn.over_sampling import SMOTE  # Import SMOTE\n",
    "from collections import Counter\n",
    "\n",
    "\n",
    "\n",
    "smote = SMOTE(sampling_strategy='auto', random_state=42)\n",
    "X_balanced, y_balanced = smote.fit_resample(X, y)\n",
    "\n",
    "# Check new class distribution\n",
    "print(\"Balanced class distribution:\", Counter(y_balanced))"
   ]
  },
  {
   "cell_type": "code",
   "execution_count": 20,
   "metadata": {},
   "outputs": [],
   "source": [
    "X_train, X_test, y_train, y_test = train_test_split(X_balanced, y_balanced, test_size=0.2, random_state=42, stratify=y_balanced)\n",
    "scaler = StandardScaler()\n",
    "scaler = StandardScaler()\n",
    "X_train_scaled = scaler.fit_transform(X_train)  # ✅ Fixed: Apply StandardScaler correctly\n",
    "X_test_scaled = scaler.transform(X_test) "
   ]
  },
  {
   "cell_type": "code",
   "execution_count": 21,
   "metadata": {},
   "outputs": [
    {
     "name": "stdout",
     "output_type": "stream",
     "text": [
      "\n",
      "🔹 Random Forest Model Evaluation 🔹\n",
      "Accuracy: 1.0\n",
      "Classification Report:\n",
      "               precision    recall  f1-score   support\n",
      "\n",
      "           0       1.00      1.00      1.00      2554\n",
      "           1       1.00      1.00      1.00      2554\n",
      "\n",
      "    accuracy                           1.00      5108\n",
      "   macro avg       1.00      1.00      1.00      5108\n",
      "weighted avg       1.00      1.00      1.00      5108\n",
      "\n"
     ]
    }
   ],
   "source": [
    "rf_model = RandomForestClassifier(n_estimators=100, random_state=42)\n",
    "rf_model.fit(X_train_scaled, y_train)\n",
    "\n",
    "# Predictions for Random Forest\n",
    "y_pred_rf = rf_model.predict(X_test_scaled)\n",
    "\n",
    "# Evaluate Random Forest\n",
    "print(\"\\n🔹 Random Forest Model Evaluation 🔹\")\n",
    "print(\"Accuracy:\", accuracy_score(y_test, y_pred_rf))\n",
    "print(\"Classification Report:\\n\", classification_report(y_test, y_pred_rf))"
   ]
  },
  {
   "cell_type": "code",
   "execution_count": null,
   "metadata": {},
   "outputs": [],
   "source": []
  },
  {
   "cell_type": "code",
   "execution_count": 22,
   "metadata": {},
   "outputs": [
    {
     "name": "stdout",
     "output_type": "stream",
     "text": [
      "\n",
      "🔹 Logistic Regression Model Evaluation 🔹\n",
      "Accuracy: 0.9363743148003132\n",
      "Classification Report:\n",
      "               precision    recall  f1-score   support\n",
      "\n",
      "           0       0.93      0.95      0.94      2554\n",
      "           1       0.95      0.92      0.94      2554\n",
      "\n",
      "    accuracy                           0.94      5108\n",
      "   macro avg       0.94      0.94      0.94      5108\n",
      "weighted avg       0.94      0.94      0.94      5108\n",
      "\n"
     ]
    }
   ],
   "source": [
    "lr_model = LogisticRegression(max_iter=1000, random_state=42)\n",
    "lr_model.fit(X_train_scaled, y_train)\n",
    "\n",
    "# Predictions for Logistic Regression\n",
    "y_pred_lr = lr_model.predict(X_test_scaled)\n",
    "\n",
    "# Evaluate Logistic Regression\n",
    "print(\"\\n🔹 Logistic Regression Model Evaluation 🔹\")\n",
    "print(\"Accuracy:\", accuracy_score(y_test, y_pred_lr))\n",
    "print(\"Classification Report:\\n\", classification_report(y_test, y_pred_lr))"
   ]
  },
  {
   "cell_type": "code",
   "execution_count": null,
   "metadata": {},
   "outputs": [],
   "source": []
  }
 ],
 "metadata": {
  "kernelspec": {
   "display_name": "Python 3",
   "language": "python",
   "name": "python3"
  },
  "language_info": {
   "codemirror_mode": {
    "name": "ipython",
    "version": 3
   },
   "file_extension": ".py",
   "mimetype": "text/x-python",
   "name": "python",
   "nbconvert_exporter": "python",
   "pygments_lexer": "ipython3",
   "version": "3.10.11"
  }
 },
 "nbformat": 4,
 "nbformat_minor": 2
}
