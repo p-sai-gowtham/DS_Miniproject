{
 "cells": [
  {
   "cell_type": "code",
   "execution_count": 11,
   "metadata": {},
   "outputs": [],
   "source": [
    "import pandas as pd\n",
    "data = pd.read_csv('../staging/data_set/master_dataset.csv')"
   ]
  },
  {
   "cell_type": "code",
   "execution_count": 4,
   "metadata": {},
   "outputs": [],
   "source": [
    "from sklearn.feature_selection import SelectKBest, f_classif"
   ]
  },
  {
   "cell_type": "code",
   "execution_count": 5,
   "metadata": {},
   "outputs": [],
   "source": [
    "data['arr_change'] = data['future_arr'] - data['current_arr']\n",
    "data['perc_change'] = (data['future_arr'] - data['current_arr']) / data['current_arr']\n",
    "data['churn_flag'] = (data['future_arr'] < data['current_arr'] * 0.8).astype(int)"
   ]
  },
  {
   "cell_type": "code",
   "execution_count": 6,
   "metadata": {},
   "outputs": [
    {
     "name": "stdout",
     "output_type": "stream",
     "text": [
      "Mapping for 'crm_industry_current':\n",
      "{'0': 0, 'Consumer Services': 1, 'Corporate Services': 2, 'Education': 3, 'Energy & Utilities': 4, 'Financial Services': 5, 'Government': 6, 'Healthcare': 7, 'Manufacturing & Resources': 8, 'Media & Entertainment': 9, 'Non-Profits & Associations': 10, 'Retail, Wholesale & Distribution': 11, 'Technology': 12, 'Telecommunications': 13, 'Transportation': 14, 'Travel & Hospitality': 15}\n",
      "\n",
      "Mapping for 'crm_employee_range':\n",
      "{'01-Sep': 0, '100 - 249': 1, '1000 - 4999': 2, '250 - 499': 3, '50 - 99': 4, '500 - 999': 5, '5000+': 6, 'Oct-49': 7}\n"
     ]
    }
   ],
   "source": [
    "from sklearn.preprocessing import LabelEncoder\n",
    "\n",
    "# Initialize the label encoder\n",
    "le_industry = LabelEncoder()\n",
    "le_employee = LabelEncoder()\n",
    "\n",
    "# Fit and transform the columns\n",
    "data['crm_industry_current'] = le_industry.fit_transform(data['crm_industry_current'])\n",
    "data['crm_employee_range'] = le_employee.fit_transform(data['crm_employee_range'])\n",
    "\n",
    "# Print the mapping of values to integers for each column\n",
    "print(\"Mapping for 'crm_industry_current':\")\n",
    "print(dict(zip(le_industry.classes_, range(len(le_industry.classes_)))))\n",
    "\n",
    "print(\"\\nMapping for 'crm_employee_range':\")\n",
    "print(dict(zip(le_employee.classes_, range(len(le_employee.classes_)))))"
   ]
  },
  {
   "cell_type": "code",
   "execution_count": 7,
   "metadata": {},
   "outputs": [],
   "source": [
    "# Remove the 'id' column from X\n",
    "X1 = data.drop(columns=['id' , 'score_date' , 'perc_change'], errors='ignore')  # Use 'errors=\"ignore\"' to avoid errors if 'id' is not present\n",
    "\n"
   ]
  },
  {
   "cell_type": "code",
   "execution_count": 8,
   "metadata": {},
   "outputs": [
    {
     "name": "stdout",
     "output_type": "stream",
     "text": [
      "Columns in X:\n",
      "Index(['segment_smb', 'segment_non_smb', 'segment_commercial',\n",
      "       'segment_enterprise', 'segment_midmarket', 'region_emea', 'region_apac',\n",
      "       'region_latam', 'region_amer', 'customer_age_quarters',\n",
      "       'sales_assisted', 'legacy_flag', 'product_counts',\n",
      "       'billing_dunning_not_ok', 'crm_industry_current', 'crm_employee_range',\n",
      "       'crm_success_owner_change', 'current_arr', 'future_arr', 'arr_change',\n",
      "       'fx_impact', 'seat_change_arr', 'product_change_arr',\n",
      "       'discount_arr_usd', 'team_plus', 'pro_plus', 'ent_plus',\n",
      "       'discount_arr_usd_percentage', 'product_counts_percentage',\n",
      "       'total_pool_max_agents', 'max_seats', 'agent_utilization',\n",
      "       'is_provisioned_any_channel_M_before', 'max_seats_M_before',\n",
      "       'agent_utilization_increase', 'agent_utilization_decrease',\n",
      "       'seat_utilization', 'seat_utilization_M_before',\n",
      "       'seat_utilization_increase', 'seat_utilization_decrease', 'csat_score',\n",
      "       'csat_response_rate', 'nps_score', 'nps_score_all_time',\n",
      "       'avg_nps_rating', 'avg_nps_rating_all_time', 'outreach_call_90dayflag',\n",
      "       'num_low_sev_outages', 'num_high_sev_outages', 'has_high_sev_outage',\n",
      "       'months_since_high_sev_outage', 'num_tickets_deflected',\n",
      "       'max_tickets_per_agent'],\n",
      "      dtype='object')\n",
      "\n",
      "Target column (y):\n",
      "churn_flag\n"
     ]
    }
   ],
   "source": [
    "X = X1.iloc[:, :-1]  \n",
    "y = X1.iloc[:, -1] \n",
    "# Check columns in X\n",
    "print(\"Columns in X:\")\n",
    "print(X.columns)\n",
    "\n",
    "# Check the name of the target column (y)\n",
    "print(\"\\nTarget column (y):\")\n",
    "print(y.name)"
   ]
  },
  {
   "cell_type": "code",
   "execution_count": 12,
   "metadata": {},
   "outputs": [
    {
     "name": "stdout",
     "output_type": "stream",
     "text": [
      "Selected Features:\n",
      "Index(['sales_assisted', 'current_arr', 'arr_change', 'seat_change_arr',\n",
      "       'product_change_arr', 'pro_plus', 'max_seats',\n",
      "       'is_provisioned_any_channel_M_before', 'max_seats_M_before',\n",
      "       'seat_utilization_decrease'],\n",
      "      dtype='object')\n",
      "Transformed Feature Matrix:\n",
      "[[1.00000000e+00 2.97600000e+03 0.00000000e+00 ... 2.00000000e+00\n",
      "  2.00000000e+00 0.00000000e+00]\n",
      " [1.00000000e+00 2.07247200e+04 7.50120000e+02 ... 9.00000000e+00\n",
      "  9.00000000e+00 0.00000000e+00]\n",
      " [0.00000000e+00 6.05760000e+02 2.12040000e+02 ... 1.00000000e+00\n",
      "  1.00000000e+00 0.00000000e+00]\n",
      " ...\n",
      " [0.00000000e+00 2.28000000e+02 0.00000000e+00 ... 1.00000000e+00\n",
      "  1.00000000e+00 0.00000000e+00]\n",
      " [0.00000000e+00 2.28000000e+02 0.00000000e+00 ... 8.78967286e+00\n",
      "  1.00000000e+00 0.00000000e+00]\n",
      " [0.00000000e+00 1.08000000e+03 0.00000000e+00 ... 8.00000000e+00\n",
      "  1.00000000e+01 0.00000000e+00]]\n"
     ]
    },
    {
     "name": "stderr",
     "output_type": "stream",
     "text": [
      "c:\\Users\\FahmidaSanabilSyedAb\\AppData\\Local\\Programs\\Python\\Python312\\Lib\\site-packages\\sklearn\\feature_selection\\_univariate_selection.py:111: UserWarning: Features [11 29] are constant.\n",
      "  warnings.warn(\"Features %s are constant.\" % constant_features_idx, UserWarning)\n",
      "c:\\Users\\FahmidaSanabilSyedAb\\AppData\\Local\\Programs\\Python\\Python312\\Lib\\site-packages\\sklearn\\feature_selection\\_univariate_selection.py:112: RuntimeWarning: invalid value encountered in divide\n",
      "  f = msb / msw\n"
     ]
    }
   ],
   "source": [
    "import pandas as pd\n",
    "\n",
    "# Perform feature selection\n",
    "selector = SelectKBest(score_func=f_classif, k=10)\n",
    "X_new = selector.fit_transform(X, y)\n",
    "\n",
    "# Get the selected feature indices\n",
    "selected_features = selector.get_support(indices=True)\n",
    "\n",
    "# Get the names of the selected features (if X is a DataFrame)\n",
    "if isinstance(X, pd.DataFrame):\n",
    "    feature_names = X.columns[selected_features]\n",
    "    print(\"Selected Features:\")\n",
    "    print(feature_names)\n",
    "else:\n",
    "    print(\"Selected feature indices:\")\n",
    "    print(selected_features)\n",
    "\n",
    "# Output the transformed feature matrix\n",
    "print(\"Transformed Feature Matrix:\")\n",
    "print(X_new)"
   ]
  },
  {
   "cell_type": "code",
   "execution_count": 10,
   "metadata": {},
   "outputs": [],
   "source": [
    "from sklearn.feature_selection import RFE\n",
    "from sklearn.ensemble import RandomForestClassifier\n",
    "\n",
    "estimator = RandomForestClassifier()\n",
    "selector = RFE(estimator, n_features_to_select=5, step=1)\n",
    "selector = selector.fit(X, y)"
   ]
  },
  {
   "cell_type": "code",
   "execution_count": null,
   "metadata": {},
   "outputs": [],
   "source": []
  }
 ],
 "metadata": {
  "kernelspec": {
   "display_name": "Python 3",
   "language": "python",
   "name": "python3"
  },
  "language_info": {
   "codemirror_mode": {
    "name": "ipython",
    "version": 3
   },
   "file_extension": ".py",
   "mimetype": "text/x-python",
   "name": "python",
   "nbconvert_exporter": "python",
   "pygments_lexer": "ipython3",
   "version": "3.12.9"
  }
 },
 "nbformat": 4,
 "nbformat_minor": 2
}
