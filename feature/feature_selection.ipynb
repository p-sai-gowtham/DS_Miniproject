{
 "cells": [
  {
   "cell_type": "code",
   "execution_count": 1,
   "metadata": {},
   "outputs": [],
   "source": [
    "import pandas as pd\n",
    "from sklearn.feature_selection import SelectKBest, f_classif\n"
   ]
  },
  {
   "cell_type": "code",
   "execution_count": 2,
   "metadata": {},
   "outputs": [],
   "source": [
    "\n",
    "data = pd.read_csv('../staging/data_set/master_dataset.csv')"
   ]
  },
  {
   "cell_type": "code",
   "execution_count": 3,
   "metadata": {},
   "outputs": [],
   "source": [
    "data['arr_change'] = data['future_arr'] - data['current_arr']\n",
    "data['perc_change'] = (data['future_arr'] - data['current_arr']) / data['current_arr']\n",
    "data['churn_flag'] = (data['future_arr'] < data['current_arr'] * 0.8).astype(int)"
   ]
  },
  {
   "cell_type": "code",
   "execution_count": 4,
   "metadata": {},
   "outputs": [
    {
     "data": {
      "text/plain": [
       "churn_flag\n",
       "0    12769\n",
       "1      648\n",
       "Name: count, dtype: int64"
      ]
     },
     "execution_count": 4,
     "metadata": {},
     "output_type": "execute_result"
    }
   ],
   "source": [
    "data['churn_flag'].value_counts()"
   ]
  },
  {
   "cell_type": "code",
   "execution_count": 5,
   "metadata": {},
   "outputs": [
    {
     "data": {
      "text/plain": [
       "Index(['id', 'score_date', 'segment_smb', 'segment_non_smb',\n",
       "       'segment_commercial', 'segment_enterprise', 'segment_midmarket',\n",
       "       'region_emea', 'region_apac', 'region_latam', 'region_amer',\n",
       "       'customer_age_quarters', 'sales_assisted', 'legacy_flag',\n",
       "       'product_counts', 'billing_dunning_not_ok', 'crm_industry_current',\n",
       "       'crm_employee_range', 'crm_success_owner_change', 'current_arr',\n",
       "       'future_arr', 'arr_change', 'fx_impact', 'seat_change_arr',\n",
       "       'product_change_arr', 'discount_arr_usd', 'team_plus', 'pro_plus',\n",
       "       'ent_plus', 'discount_arr_usd_percentage', 'product_counts_percentage',\n",
       "       'total_pool_max_agents', 'max_seats', 'agent_utilization',\n",
       "       'is_provisioned_any_channel_M_before', 'max_seats_M_before',\n",
       "       'agent_utilization_increase', 'agent_utilization_decrease',\n",
       "       'seat_utilization', 'seat_utilization_M_before',\n",
       "       'seat_utilization_increase', 'seat_utilization_decrease', 'csat_score',\n",
       "       'csat_response_rate', 'nps_score', 'nps_score_all_time',\n",
       "       'avg_nps_rating', 'avg_nps_rating_all_time', 'outreach_call_90dayflag',\n",
       "       'num_low_sev_outages', 'num_high_sev_outages', 'has_high_sev_outage',\n",
       "       'months_since_high_sev_outage', 'num_tickets_deflected',\n",
       "       'max_tickets_per_agent', 'year_week', 'perc_change', 'churn_flag'],\n",
       "      dtype='object')"
      ]
     },
     "execution_count": 5,
     "metadata": {},
     "output_type": "execute_result"
    }
   ],
   "source": [
    "data.columns"
   ]
  },
  {
   "cell_type": "markdown",
   "metadata": {},
   "source": [
    "Label Encoding"
   ]
  },
  {
   "cell_type": "code",
   "execution_count": 6,
   "metadata": {},
   "outputs": [
    {
     "name": "stdout",
     "output_type": "stream",
     "text": [
      "Mapping for 'crm_industry_current':\n",
      "{'0': 0, 'Consumer Services': 1, 'Corporate Services': 2, 'Education': 3, 'Energy & Utilities': 4, 'Financial Services': 5, 'Government': 6, 'Healthcare': 7, 'Manufacturing & Resources': 8, 'Media & Entertainment': 9, 'Non-Profits & Associations': 10, 'Retail, Wholesale & Distribution': 11, 'Technology': 12, 'Telecommunications': 13, 'Transportation': 14, 'Travel & Hospitality': 15}\n",
      "\n",
      "Mapping for 'crm_employee_range':\n",
      "{'01-Sep': 0, '100 - 249': 1, '1000 - 4999': 2, '250 - 499': 3, '50 - 99': 4, '500 - 999': 5, '5000+': 6, 'Oct-49': 7}\n"
     ]
    }
   ],
   "source": [
    "from sklearn.preprocessing import LabelEncoder\n",
    "\n",
    "# Initialize the label encoder\n",
    "le_industry = LabelEncoder()\n",
    "le_employee = LabelEncoder()\n",
    "\n",
    "# Fit and transform the columns\n",
    "data['crm_industry_current'] = le_industry.fit_transform(data['crm_industry_current'])\n",
    "data['crm_employee_range'] = le_employee.fit_transform(data['crm_employee_range'])\n",
    "\n",
    "# Print the mapping of values to integers for each column\n",
    "print(\"Mapping for 'crm_industry_current':\")\n",
    "print(dict(zip(le_industry.classes_, range(len(le_industry.classes_)))))\n",
    "\n",
    "print(\"\\nMapping for 'crm_employee_range':\")\n",
    "print(dict(zip(le_employee.classes_, range(len(le_employee.classes_)))))"
   ]
  },
  {
   "cell_type": "markdown",
   "metadata": {},
   "source": [
    "Feature Grouping"
   ]
  },
  {
   "cell_type": "code",
   "execution_count": null,
   "metadata": {},
   "outputs": [],
   "source": [
    "data['seat_utilization_change'] = data['seat_utilization'] - data['seat_utilization_M_before']\n",
    "data['max_seats_change'] = data['max_seats'] - data['max_seats_M_before']\n",
    "data['arr_changes'] = data['future_arr'] - data['current_arr']\n",
    "data = data.drop(columns=['seat_utilization','seat_utilization_M_before','max_seats','max_seats_M_before','future_arr','current_arr'])"
   ]
  },
  {
   "cell_type": "markdown",
   "metadata": {},
   "source": [
    "Feature Bucketing"
   ]
  },
  {
   "cell_type": "code",
   "execution_count": 8,
   "metadata": {},
   "outputs": [
    {
     "name": "stdout",
     "output_type": "stream",
     "text": [
      "                  id  score_date  segment_smb  segment_non_smb  \\\n",
      "0      JMAN_10025258  2023-01-06          0.0              1.0   \n",
      "1      JMAN_10025258  2023-01-13          0.0              1.0   \n",
      "2      JMAN_10025258  2023-01-20          0.0              1.0   \n",
      "3      JMAN_10025258  2023-01-27          0.0              1.0   \n",
      "4      JMAN_10025258  2023-02-03          0.0              1.0   \n",
      "...              ...         ...          ...              ...   \n",
      "13412   JMAN_9999715  2023-03-03          0.0              1.0   \n",
      "13413   JMAN_9999715  2023-03-10          0.0              1.0   \n",
      "13414   JMAN_9999715  2023-03-17          0.0              1.0   \n",
      "13415   JMAN_9999715  2023-03-24          0.0              1.0   \n",
      "13416   JMAN_9999715  2023-03-31          0.0              1.0   \n",
      "\n",
      "       segment_commercial  segment_enterprise  segment_midmarket  \\\n",
      "0                     0.0                 0.0                0.0   \n",
      "1                     0.0                 0.0                0.0   \n",
      "2                     0.0                 0.0                0.0   \n",
      "3                     0.0                 0.0                0.0   \n",
      "4                     0.0                 0.0                0.0   \n",
      "...                   ...                 ...                ...   \n",
      "13412                 0.0                 0.0                0.0   \n",
      "13413                 0.0                 0.0                0.0   \n",
      "13414                 0.0                 0.0                0.0   \n",
      "13415                 0.0                 0.0                0.0   \n",
      "13416                 0.0                 0.0                0.0   \n",
      "\n",
      "       customer_age_quarters  sales_assisted  legacy_flag  ...  \\\n",
      "0                       10.0             0.0          0.0  ...   \n",
      "1                       10.0             0.0          0.0  ...   \n",
      "2                       10.0             0.0          0.0  ...   \n",
      "3                       10.0             0.0          0.0  ...   \n",
      "4                       11.0             0.0          0.0  ...   \n",
      "...                      ...             ...          ...  ...   \n",
      "13412                   10.0             0.0          0.0  ...   \n",
      "13413                   10.0             0.0          0.0  ...   \n",
      "13414                   10.0             0.0          0.0  ...   \n",
      "13415                   10.0             0.0          0.0  ...   \n",
      "13416                   10.0             0.0          0.0  ...   \n",
      "\n",
      "       has_high_sev_outage  months_since_high_sev_outage  \\\n",
      "0                      0.0                          10.0   \n",
      "1                      0.0                          10.0   \n",
      "2                      0.0                          10.0   \n",
      "3                      0.0                          10.0   \n",
      "4                      0.0                          11.0   \n",
      "...                    ...                           ...   \n",
      "13412                  0.0                          17.0   \n",
      "13413                  0.0                          17.0   \n",
      "13414                  0.0                          17.0   \n",
      "13415                  0.0                          17.0   \n",
      "13416                  0.0                          17.0   \n",
      "\n",
      "       num_tickets_deflected  max_tickets_per_agent              year_week  \\\n",
      "0                        0.0                    0.0  2023-01-02/2023-01-08   \n",
      "1                        0.0                    0.0  2023-01-09/2023-01-15   \n",
      "2                        0.0                    0.0  2023-01-16/2023-01-22   \n",
      "3                        0.0                    0.0  2023-01-23/2023-01-29   \n",
      "4                        0.0                    0.0  2023-01-30/2023-02-05   \n",
      "...                      ...                    ...                    ...   \n",
      "13412                    0.0                  334.0  2023-02-27/2023-03-05   \n",
      "13413                    0.0                  298.0  2023-03-06/2023-03-12   \n",
      "13414                    0.0                  398.0  2023-03-13/2023-03-19   \n",
      "13415                    0.0                  405.0  2023-03-20/2023-03-26   \n",
      "13416                    0.0                  358.0  2023-03-27/2023-04-02   \n",
      "\n",
      "       perc_change  churn_flag  seat_utilization_change  max_seats_change  \\\n",
      "0         0.000000           0                 0.000000               0.0   \n",
      "1         0.000000           0                 0.000000               0.0   \n",
      "2         0.000000           0                 0.000000               0.0   \n",
      "3         0.000000           0                 0.000000               0.0   \n",
      "4       175.532111           0                 0.000000               0.0   \n",
      "...            ...         ...                      ...               ...   \n",
      "13412     0.000000           0                -0.066667               0.0   \n",
      "13413     0.000000           0                -0.066667               0.0   \n",
      "13414     0.000000           0                 0.000000               0.0   \n",
      "13415     0.000000           0                 0.000000               0.0   \n",
      "13416     0.000000           0                 0.066667               0.0   \n",
      "\n",
      "       regions  \n",
      "0            2  \n",
      "1            2  \n",
      "2            2  \n",
      "3            2  \n",
      "4            2  \n",
      "...        ...  \n",
      "13412        4  \n",
      "13413        4  \n",
      "13414        4  \n",
      "13415        4  \n",
      "13416        4  \n",
      "\n",
      "[13417 rows x 51 columns]\n"
     ]
    }
   ],
   "source": [
    "# Combine the columns into a single column\n",
    "def combine_columns(row):\n",
    "    if row['region_emea'] != 0:\n",
    "        return 1\n",
    "    elif row['region_apac'] != 0:\n",
    "        return 2\n",
    "    elif row['region_latam'] != 0:\n",
    "        return 3\n",
    "    elif row['region_amer'] != 0:\n",
    "        return 4\n",
    "    else:\n",
    "        return 0  # Default value if all are 0\n",
    "\n",
    "# Apply the function to create the 'regions' column\n",
    "data['regions'] = data.apply(combine_columns, axis=1)\n",
    "\n",
    "# Drop the original region columns if no longer needed\n",
    "data = data.drop(columns=['region_emea', 'region_apac', 'region_latam', 'region_amer'])\n",
    "\n",
    "# Display the updated DataFrame\n",
    "print(data)"
   ]
  },
  {
   "cell_type": "code",
   "execution_count": null,
   "metadata": {},
   "outputs": [],
   "source": [
    "# Remove the 'id' column from X\n",
    "X1 = data.drop(columns=['id' , 'score_date' , 'perc_change','arr_change','total_pool_max_agents','crm_success_owner_change','legacy_flag','crm_success_owner_change'], errors='ignore')  # Use 'errors=\"ignore\"' to avoid errors if 'id' is not present\n",
    "\n"
   ]
  },
  {
   "cell_type": "code",
   "execution_count": 13,
   "metadata": {},
   "outputs": [
    {
     "name": "stdout",
     "output_type": "stream",
     "text": [
      "Columns in X:\n",
      "Index(['segment_smb', 'segment_non_smb', 'segment_commercial',\n",
      "       'segment_enterprise', 'segment_midmarket', 'region_emea', 'region_apac',\n",
      "       'region_latam', 'region_amer', 'customer_age_quarters',\n",
      "       'sales_assisted', 'legacy_flag', 'product_counts',\n",
      "       'billing_dunning_not_ok', 'crm_industry_current', 'crm_employee_range',\n",
      "       'crm_success_owner_change', 'current_arr', 'future_arr', 'arr_change',\n",
      "       'fx_impact', 'seat_change_arr', 'product_change_arr',\n",
      "       'discount_arr_usd', 'team_plus', 'pro_plus', 'ent_plus',\n",
      "       'discount_arr_usd_percentage', 'product_counts_percentage',\n",
      "       'total_pool_max_agents', 'max_seats', 'agent_utilization',\n",
      "       'is_provisioned_any_channel_M_before', 'max_seats_M_before',\n",
      "       'agent_utilization_increase', 'agent_utilization_decrease',\n",
      "       'seat_utilization', 'seat_utilization_M_before',\n",
      "       'seat_utilization_increase', 'seat_utilization_decrease', 'csat_score',\n",
      "       'csat_response_rate', 'nps_score', 'nps_score_all_time',\n",
      "       'avg_nps_rating', 'avg_nps_rating_all_time', 'outreach_call_90dayflag',\n",
      "       'num_low_sev_outages', 'num_high_sev_outages', 'has_high_sev_outage',\n",
      "       'months_since_high_sev_outage', 'num_tickets_deflected',\n",
      "       'max_tickets_per_agent'],\n",
      "      dtype='object')\n",
      "\n",
      "Target column (y):\n",
      "churn_flag\n"
     ]
    }
   ],
   "source": [
    "X = X1.iloc[:, :-1]  \n",
    "y = X1.iloc[:, -1] \n",
    "# Check columns in X\n",
    "print(\"Columns in X:\")\n",
    "print(X.columns)\n",
    "\n",
    "# Check the name of the target column (y)\n",
    "print(\"\\nTarget column (y):\")\n",
    "print(y.name)"
   ]
  },
  {
   "cell_type": "code",
   "execution_count": 14,
   "metadata": {},
   "outputs": [
    {
     "name": "stdout",
     "output_type": "stream",
     "text": [
      "Selected Features:\n",
      "Index(['sales_assisted', 'current_arr', 'arr_change', 'seat_change_arr',\n",
      "       'product_change_arr', 'pro_plus', 'max_seats',\n",
      "       'is_provisioned_any_channel_M_before', 'max_seats_M_before',\n",
      "       'seat_utilization_decrease'],\n",
      "      dtype='object')\n",
      "Transformed Feature Matrix:\n",
      "[[1.00000000e+00 2.97600000e+03 0.00000000e+00 ... 2.00000000e+00\n",
      "  2.00000000e+00 0.00000000e+00]\n",
      " [1.00000000e+00 2.07247200e+04 7.50120000e+02 ... 9.00000000e+00\n",
      "  9.00000000e+00 0.00000000e+00]\n",
      " [0.00000000e+00 6.05760000e+02 2.12040000e+02 ... 1.00000000e+00\n",
      "  1.00000000e+00 0.00000000e+00]\n",
      " ...\n",
      " [0.00000000e+00 2.28000000e+02 0.00000000e+00 ... 1.00000000e+00\n",
      "  1.00000000e+00 0.00000000e+00]\n",
      " [0.00000000e+00 2.28000000e+02 0.00000000e+00 ... 8.78967286e+00\n",
      "  1.00000000e+00 0.00000000e+00]\n",
      " [0.00000000e+00 1.08000000e+03 0.00000000e+00 ... 8.00000000e+00\n",
      "  1.00000000e+01 0.00000000e+00]]\n"
     ]
    },
    {
     "name": "stderr",
     "output_type": "stream",
     "text": [
      "c:\\Users\\FahmidaSanabilSyedAb\\AppData\\Local\\Programs\\Python\\Python312\\Lib\\site-packages\\sklearn\\feature_selection\\_univariate_selection.py:111: UserWarning: Features [11 29] are constant.\n",
      "  warnings.warn(\"Features %s are constant.\" % constant_features_idx, UserWarning)\n",
      "c:\\Users\\FahmidaSanabilSyedAb\\AppData\\Local\\Programs\\Python\\Python312\\Lib\\site-packages\\sklearn\\feature_selection\\_univariate_selection.py:112: RuntimeWarning: invalid value encountered in divide\n",
      "  f = msb / msw\n"
     ]
    }
   ],
   "source": [
    "import pandas as pd\n",
    "\n",
    "# Perform feature selection\n",
    "selector = SelectKBest(score_func=f_classif, k=10)\n",
    "X_new = selector.fit_transform(X, y)\n",
    "\n",
    "# Get the selected feature indices\n",
    "selected_features = selector.get_support(indices=True)\n",
    "\n",
    "# Get the names of the selected features (if X is a DataFrame)\n",
    "if isinstance(X, pd.DataFrame):\n",
    "    feature_names = X.columns[selected_features]\n",
    "    print(\"Selected Features:\")\n",
    "    print(feature_names)\n",
    "else:\n",
    "    print(\"Selected feature indices:\")\n",
    "    print(selected_features)\n",
    "\n",
    "# Output the transformed feature matrix\n",
    "print(\"Transformed Feature Matrix:\")\n",
    "print(X_new)"
   ]
  },
  {
   "cell_type": "code",
   "execution_count": null,
   "metadata": {},
   "outputs": [
    {
     "name": "stdout",
     "output_type": "stream",
     "text": [
      "Selected Features:\n",
      "Index(['current_arr', 'future_arr', 'arr_change', 'seat_change_arr',\n",
      "       'product_change_arr'],\n",
      "      dtype='object')\n",
      "\n",
      "Feature Rankings:\n",
      "                                Feature  Ranking\n",
      "21                      seat_change_arr        1\n",
      "19                           arr_change        1\n",
      "18                           future_arr        1\n",
      "22                   product_change_arr        1\n",
      "17                          current_arr        1\n",
      "50         months_since_high_sev_outage        2\n",
      "33                   max_seats_M_before        3\n",
      "30                            max_seats        4\n",
      "32  is_provisioned_any_channel_M_before        5\n",
      "36                     seat_utilization        6\n",
      "20                            fx_impact        7\n",
      "52                max_tickets_per_agent        8\n",
      "9                 customer_age_quarters        9\n",
      "14                 crm_industry_current       10\n",
      "47                  num_low_sev_outages       11\n",
      "37            seat_utilization_M_before       12\n",
      "15                   crm_employee_range       13\n",
      "12                       product_counts       14\n",
      "41                   csat_response_rate       15\n",
      "45              avg_nps_rating_all_time       16\n",
      "31                    agent_utilization       17\n",
      "10                       sales_assisted       18\n",
      "23                     discount_arr_usd       19\n",
      "1                       segment_non_smb       20\n",
      "40                           csat_score       21\n",
      "5                           region_emea       22\n",
      "8                           region_amer       23\n",
      "6                           region_apac       24\n",
      "0                           segment_smb       25\n",
      "25                             pro_plus       26\n",
      "44                       avg_nps_rating       27\n",
      "43                   nps_score_all_time       28\n",
      "4                     segment_midmarket       29\n",
      "51                num_tickets_deflected       30\n",
      "2                    segment_commercial       31\n",
      "26                             ent_plus       32\n",
      "7                          region_latam       33\n",
      "46              outreach_call_90dayflag       34\n",
      "48                 num_high_sev_outages       35\n",
      "3                    segment_enterprise       36\n",
      "35           agent_utilization_decrease       37\n",
      "24                            team_plus       38\n",
      "42                            nps_score       39\n",
      "28            product_counts_percentage       40\n",
      "13               billing_dunning_not_ok       41\n",
      "38            seat_utilization_increase       42\n",
      "39            seat_utilization_decrease       43\n",
      "34           agent_utilization_increase       44\n",
      "49                  has_high_sev_outage       45\n",
      "27          discount_arr_usd_percentage       46\n",
      "29                total_pool_max_agents       47\n",
      "16             crm_success_owner_change       48\n",
      "11                          legacy_flag       49\n"
     ]
    }
   ],
   "source": [
    "import pandas as pd\n",
    "from sklearn.feature_selection import RFE\n",
    "from sklearn.ensemble import RandomForestClassifier\n",
    "\n",
    "# Assuming X is a DataFrame and y is the target variable\n",
    "estimator = RandomForestClassifier()\n",
    "selector = RFE(estimator, n_features_to_select=5, step=1)\n",
    "selector = selector.fit(X, y)\n",
    "\n",
    "# Get the ranking of features\n",
    "ranking = selector.ranking_\n",
    "\n",
    "# If X is a DataFrame, get the feature names\n",
    "if isinstance(X, pd.DataFrame):\n",
    "    feature_names = X.columns\n",
    "    selected_features = feature_names[selector.support_]  # Features selected by RFE\n",
    "    print(\"Selected Features:\")\n",
    "    print(selected_features)\n",
    "\n",
    "    # Display feature rankings\n",
    "    feature_ranking = pd.DataFrame({'Feature': feature_names, 'Ranking': ranking})\n",
    "    print(\"\\nFeature Rankings:\")\n",
    "    print(feature_ranking.sort_values(by='Ranking'))\n",
    "else:\n",
    "    print(\"Feature rankings (indices):\")\n",
    "    print(ranking)\n",
    "\n",
    "\n",
    "\n",
    "\n"
   ]
  },
  {
   "cell_type": "code",
   "execution_count": 19,
   "metadata": {},
   "outputs": [
    {
     "name": "stdout",
     "output_type": "stream",
     "text": [
      "Selected Features:\n",
      "Index(['segment_smb', 'segment_non_smb', 'segment_commercial',\n",
      "       'segment_enterprise', 'segment_midmarket', 'region_emea', 'region_apac',\n",
      "       'region_latam', 'region_amer', 'customer_age_quarters',\n",
      "       'sales_assisted', 'legacy_flag', 'product_counts',\n",
      "       'billing_dunning_not_ok', 'crm_industry_current', 'crm_employee_range',\n",
      "       'crm_success_owner_change', 'current_arr', 'future_arr', 'arr_change',\n",
      "       'fx_impact', 'seat_change_arr', 'product_change_arr',\n",
      "       'discount_arr_usd', 'max_seats_M_before'],\n",
      "      dtype='object')\n",
      "\n",
      "Non-Selected Features:\n",
      "Index(['team_plus', 'pro_plus', 'ent_plus', 'discount_arr_usd_percentage',\n",
      "       'product_counts_percentage', 'total_pool_max_agents', 'max_seats',\n",
      "       'agent_utilization', 'is_provisioned_any_channel_M_before',\n",
      "       'agent_utilization_increase', 'agent_utilization_decrease',\n",
      "       'seat_utilization', 'seat_utilization_M_before',\n",
      "       'seat_utilization_increase', 'seat_utilization_decrease', 'csat_score',\n",
      "       'csat_response_rate', 'nps_score', 'nps_score_all_time',\n",
      "       'avg_nps_rating', 'avg_nps_rating_all_time', 'outreach_call_90dayflag',\n",
      "       'num_low_sev_outages', 'num_high_sev_outages', 'has_high_sev_outage',\n",
      "       'months_since_high_sev_outage', 'num_tickets_deflected',\n",
      "       'max_tickets_per_agent'],\n",
      "      dtype='object')\n"
     ]
    }
   ],
   "source": [
    "from sklearn.feature_selection import SequentialFeatureSelector\n",
    "import pandas as pd\n",
    "\n",
    "# Assuming `estimator` is already defined (e.g., RandomForestClassifier)\n",
    "sfs = SequentialFeatureSelector(estimator, n_features_to_select=25, direction='forward')\n",
    "sfs.fit(X, y)\n",
    "\n",
    "# Get the selected feature mask\n",
    "selected_features_mask = sfs.get_support()\n",
    "\n",
    "# If X is a DataFrame, get the feature names\n",
    "if isinstance(X, pd.DataFrame):\n",
    "    feature_names = X.columns\n",
    "    selected_features = feature_names[selected_features_mask]  # Selected features\n",
    "    non_selected_features = feature_names[~selected_features_mask]  # Non-selected features\n",
    "\n",
    "    print(\"Selected Features:\")\n",
    "    print(selected_features)\n",
    "\n",
    "    print(\"\\nNon-Selected Features:\")\n",
    "    print(non_selected_features)\n",
    "else:\n",
    "    print(\"Selected feature indices:\")\n",
    "    print([i for i, selected in enumerate(selected_features_mask) if selected])"
   ]
  },
  {
   "cell_type": "code",
   "execution_count": null,
   "metadata": {},
   "outputs": [],
   "source": []
  }
 ],
 "metadata": {
  "kernelspec": {
   "display_name": "Python 3",
   "language": "python",
   "name": "python3"
  },
  "language_info": {
   "codemirror_mode": {
    "name": "ipython",
    "version": 3
   },
   "file_extension": ".py",
   "mimetype": "text/x-python",
   "name": "python",
   "nbconvert_exporter": "python",
   "pygments_lexer": "ipython3",
   "version": "3.12.9"
  }
 },
 "nbformat": 4,
 "nbformat_minor": 2
}
