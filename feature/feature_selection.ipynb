{
 "cells": [
  {
   "cell_type": "code",
   "execution_count": 3,
   "metadata": {},
   "outputs": [],
   "source": [
    "import pandas as pd\n",
    "from sklearn.feature_selection import SelectKBest, f_classif,SequentialFeatureSelector\n",
    "import numpy as np\n",
    "import pandas as pd\n",
    "from sklearn.model_selection import train_test_split\n",
    "from sklearn.preprocessing import StandardScaler\n",
    "from sklearn.linear_model import LogisticRegression\n",
    "from sklearn.ensemble import RandomForestClassifier\n",
    "\n",
    "from sklearn.metrics import accuracy_score, classification_report\n",
    "from imblearn.over_sampling import SMOTE\n",
    "from collections import Counter\n",
    "\n"
   ]
  },
  {
   "cell_type": "code",
   "execution_count": 4,
   "metadata": {},
   "outputs": [],
   "source": [
    "\n",
    "data = pd.read_csv('../staging/data_set/master_dataset.csv')"
   ]
  },
  {
   "cell_type": "code",
   "execution_count": 5,
   "metadata": {},
   "outputs": [
    {
     "data": {
      "text/plain": [
       "(13417, 58)"
      ]
     },
     "execution_count": 5,
     "metadata": {},
     "output_type": "execute_result"
    }
   ],
   "source": [
    "data.shape"
   ]
  },
  {
   "cell_type": "code",
   "execution_count": 6,
   "metadata": {},
   "outputs": [],
   "source": [
    "data['arr_change'] = data['future_arr'] - data['current_arr']\n",
    "data['perc_change'] = (data['future_arr'] - data['current_arr']) / data['current_arr']\n",
    "data['churn_flag'] = (data['future_arr'] < data['current_arr'] * 0.8).astype(int)"
   ]
  },
  {
   "cell_type": "code",
   "execution_count": 7,
   "metadata": {},
   "outputs": [
    {
     "data": {
      "text/plain": [
       "churn_flag\n",
       "0    12769\n",
       "1      648\n",
       "Name: count, dtype: int64"
      ]
     },
     "execution_count": 7,
     "metadata": {},
     "output_type": "execute_result"
    }
   ],
   "source": [
    "data['churn_flag'].value_counts()"
   ]
  },
  {
   "cell_type": "code",
   "execution_count": 8,
   "metadata": {},
   "outputs": [
    {
     "data": {
      "text/plain": [
       "Index(['id', 'score_date', 'segment_smb', 'segment_non_smb',\n",
       "       'segment_commercial', 'segment_enterprise', 'segment_midmarket',\n",
       "       'region_emea', 'region_apac', 'region_latam', 'region_amer',\n",
       "       'customer_age_quarters', 'sales_assisted', 'legacy_flag',\n",
       "       'product_counts', 'billing_dunning_not_ok', 'crm_industry_current',\n",
       "       'crm_employee_range', 'crm_success_owner_change', 'current_arr',\n",
       "       'future_arr', 'arr_change', 'fx_impact', 'seat_change_arr',\n",
       "       'product_change_arr', 'discount_arr_usd', 'team_plus', 'pro_plus',\n",
       "       'ent_plus', 'discount_arr_usd_percentage', 'product_counts_percentage',\n",
       "       'total_pool_max_agents', 'max_seats', 'agent_utilization',\n",
       "       'is_provisioned_any_channel_M_before', 'max_seats_M_before',\n",
       "       'agent_utilization_increase', 'agent_utilization_decrease',\n",
       "       'seat_utilization', 'seat_utilization_M_before',\n",
       "       'seat_utilization_increase', 'seat_utilization_decrease', 'csat_score',\n",
       "       'csat_response_rate', 'nps_score', 'nps_score_all_time',\n",
       "       'avg_nps_rating', 'avg_nps_rating_all_time', 'outreach_call_90dayflag',\n",
       "       'num_low_sev_outages', 'num_high_sev_outages', 'has_high_sev_outage',\n",
       "       'months_since_high_sev_outage', 'num_tickets_deflected',\n",
       "       'max_tickets_per_agent', 'year_week', 'perc_change', 'churn_flag'],\n",
       "      dtype='object')"
      ]
     },
     "execution_count": 8,
     "metadata": {},
     "output_type": "execute_result"
    }
   ],
   "source": [
    "data.columns"
   ]
  },
  {
   "cell_type": "markdown",
   "metadata": {},
   "source": [
    "Label Encoding"
   ]
  },
  {
   "cell_type": "code",
   "execution_count": 9,
   "metadata": {},
   "outputs": [],
   "source": [
    "data = pd.get_dummies(data, columns=['crm_industry_current'])\n",
    "data.columns = data.columns.str.replace(' ', '_')\n",
    "data.drop(columns=['crm_industry_current'], errors='ignore', inplace=True)\n",
    "\n"
   ]
  },
  {
   "cell_type": "code",
   "execution_count": 10,
   "metadata": {},
   "outputs": [],
   "source": [
    "from sklearn.preprocessing import LabelEncoder\n",
    "\n",
    "le = LabelEncoder()\n",
    "data['crm_employee_range'] = le.fit_transform(data['crm_employee_range'])\n"
   ]
  },
  {
   "cell_type": "code",
   "execution_count": 11,
   "metadata": {},
   "outputs": [
    {
     "data": {
      "text/plain": [
       "Index(['id', 'score_date', 'segment_smb', 'segment_non_smb',\n",
       "       'segment_commercial', 'segment_enterprise', 'segment_midmarket',\n",
       "       'region_emea', 'region_apac', 'region_latam', 'region_amer',\n",
       "       'customer_age_quarters', 'sales_assisted', 'legacy_flag',\n",
       "       'product_counts', 'billing_dunning_not_ok', 'crm_employee_range',\n",
       "       'crm_success_owner_change', 'current_arr', 'future_arr', 'arr_change',\n",
       "       'fx_impact', 'seat_change_arr', 'product_change_arr',\n",
       "       'discount_arr_usd', 'team_plus', 'pro_plus', 'ent_plus',\n",
       "       'discount_arr_usd_percentage', 'product_counts_percentage',\n",
       "       'total_pool_max_agents', 'max_seats', 'agent_utilization',\n",
       "       'is_provisioned_any_channel_M_before', 'max_seats_M_before',\n",
       "       'agent_utilization_increase', 'agent_utilization_decrease',\n",
       "       'seat_utilization', 'seat_utilization_M_before',\n",
       "       'seat_utilization_increase', 'seat_utilization_decrease', 'csat_score',\n",
       "       'csat_response_rate', 'nps_score', 'nps_score_all_time',\n",
       "       'avg_nps_rating', 'avg_nps_rating_all_time', 'outreach_call_90dayflag',\n",
       "       'num_low_sev_outages', 'num_high_sev_outages', 'has_high_sev_outage',\n",
       "       'months_since_high_sev_outage', 'num_tickets_deflected',\n",
       "       'max_tickets_per_agent', 'year_week', 'perc_change', 'churn_flag',\n",
       "       'crm_industry_current_0', 'crm_industry_current_Consumer_Services',\n",
       "       'crm_industry_current_Corporate_Services',\n",
       "       'crm_industry_current_Education',\n",
       "       'crm_industry_current_Energy_&_Utilities',\n",
       "       'crm_industry_current_Financial_Services',\n",
       "       'crm_industry_current_Government', 'crm_industry_current_Healthcare',\n",
       "       'crm_industry_current_Manufacturing_&_Resources',\n",
       "       'crm_industry_current_Media_&_Entertainment',\n",
       "       'crm_industry_current_Non-Profits_&_Associations',\n",
       "       'crm_industry_current_Retail,_Wholesale_&_Distribution',\n",
       "       'crm_industry_current_Technology',\n",
       "       'crm_industry_current_Telecommunications',\n",
       "       'crm_industry_current_Transportation',\n",
       "       'crm_industry_current_Travel_&_Hospitality'],\n",
       "      dtype='object')"
      ]
     },
     "execution_count": 11,
     "metadata": {},
     "output_type": "execute_result"
    }
   ],
   "source": [
    "data.columns"
   ]
  },
  {
   "cell_type": "code",
   "execution_count": 12,
   "metadata": {},
   "outputs": [
    {
     "data": {
      "text/plain": [
       "(13417, 73)"
      ]
     },
     "execution_count": 12,
     "metadata": {},
     "output_type": "execute_result"
    }
   ],
   "source": [
    "data.shape"
   ]
  },
  {
   "cell_type": "markdown",
   "metadata": {},
   "source": [
    "Feature Grouping"
   ]
  },
  {
   "cell_type": "code",
   "execution_count": 13,
   "metadata": {},
   "outputs": [],
   "source": [
    "data['seat_utilization_change'] = data['seat_utilization'] - data['seat_utilization_M_before']\n",
    "data['max_seats_change'] = data['max_seats'] - data['max_seats_M_before']\n",
    "data = data.drop(columns=['seat_utilization','seat_utilization_M_before','max_seats','max_seats_M_before'])"
   ]
  },
  {
   "cell_type": "markdown",
   "metadata": {},
   "source": [
    "Feature Bucketing"
   ]
  },
  {
   "cell_type": "code",
   "execution_count": 34,
   "metadata": {},
   "outputs": [],
   "source": [
    "X1 = data.drop(columns=[\n",
    "    'id', 'score_date', 'perc_change', \n",
    "    'total_pool_max_agents', 'crm_success_owner_change', \n",
    "    'legacy_flag','year_week','crm_industry_current_0', 'current_arr',\n",
    "       'future_arr', 'has_high_sev_outage',\n",
    "    'discount_arr_usd_percentage', 'product_counts_percentage','crm_industry_current_Consumer_Services',\n",
    "       'crm_industry_current_Corporate_Services',\n",
    "       'crm_industry_current_Education',\n",
    "       'crm_industry_current_Energy_&_Utilities',\n",
    "       'crm_industry_current_Financial_Services',\n",
    "       'crm_industry_current_Government', 'crm_industry_current_Healthcare',\n",
    "       'crm_industry_current_Manufacturing_&_Resources',\n",
    "       'crm_industry_current_Media_&_Entertainment',\n",
    "       'crm_industry_current_Non-Profits_&_Associations',\n",
    "       'crm_industry_current_Retail,_Wholesale_&_Distribution','crm_industry_current_Telecommunications','tickets_per_agent',\n",
    "       'crm_industry_current_Transportation',\n",
    "       'crm_industry_current_Travel_&_Hospitality', 'seat_utilization_change','crm_industry_current_Technology',\n",
    "    'discount_arr_usd',\n",
    "    \n",
    "], errors='ignore')"
   ]
  },
  {
   "cell_type": "code",
   "execution_count": 29,
   "metadata": {},
   "outputs": [
    {
     "data": {
      "text/plain": [
       "(13417, 44)"
      ]
     },
     "execution_count": 29,
     "metadata": {},
     "output_type": "execute_result"
    }
   ],
   "source": [
    "X1.shape"
   ]
  },
  {
   "cell_type": "code",
   "execution_count": 35,
   "metadata": {},
   "outputs": [
    {
     "data": {
      "text/plain": [
       "Index(['segment_smb', 'segment_non_smb', 'segment_commercial',\n",
       "       'segment_enterprise', 'segment_midmarket', 'region_emea', 'region_apac',\n",
       "       'region_latam', 'region_amer', 'customer_age_quarters',\n",
       "       'sales_assisted', 'product_counts', 'billing_dunning_not_ok',\n",
       "       'crm_employee_range', 'arr_change', 'fx_impact', 'seat_change_arr',\n",
       "       'product_change_arr', 'team_plus', 'pro_plus', 'ent_plus',\n",
       "       'agent_utilization', 'is_provisioned_any_channel_M_before',\n",
       "       'agent_utilization_increase', 'agent_utilization_decrease',\n",
       "       'seat_utilization_increase', 'seat_utilization_decrease', 'csat_score',\n",
       "       'csat_response_rate', 'nps_score', 'nps_score_all_time',\n",
       "       'avg_nps_rating', 'avg_nps_rating_all_time', 'outreach_call_90dayflag',\n",
       "       'num_low_sev_outages', 'num_high_sev_outages',\n",
       "       'months_since_high_sev_outage', 'num_tickets_deflected',\n",
       "       'max_tickets_per_agent', 'churn_flag', 'max_seats_change'],\n",
       "      dtype='object')"
      ]
     },
     "execution_count": 35,
     "metadata": {},
     "output_type": "execute_result"
    }
   ],
   "source": [
    "X1.columns"
   ]
  },
  {
   "cell_type": "code",
   "execution_count": 36,
   "metadata": {},
   "outputs": [
    {
     "name": "stdout",
     "output_type": "stream",
     "text": [
      "Columns in X:\n",
      "Index(['segment_smb', 'segment_non_smb', 'segment_commercial',\n",
      "       'segment_enterprise', 'segment_midmarket', 'region_emea', 'region_apac',\n",
      "       'region_latam', 'region_amer', 'customer_age_quarters',\n",
      "       'sales_assisted', 'product_counts', 'billing_dunning_not_ok',\n",
      "       'crm_employee_range', 'arr_change', 'fx_impact', 'seat_change_arr',\n",
      "       'product_change_arr', 'team_plus', 'pro_plus', 'ent_plus',\n",
      "       'agent_utilization', 'is_provisioned_any_channel_M_before',\n",
      "       'agent_utilization_increase', 'agent_utilization_decrease',\n",
      "       'seat_utilization_increase', 'seat_utilization_decrease', 'csat_score',\n",
      "       'csat_response_rate', 'nps_score', 'nps_score_all_time',\n",
      "       'avg_nps_rating', 'avg_nps_rating_all_time', 'outreach_call_90dayflag',\n",
      "       'num_low_sev_outages', 'num_high_sev_outages',\n",
      "       'months_since_high_sev_outage', 'num_tickets_deflected',\n",
      "       'max_tickets_per_agent', 'max_seats_change'],\n",
      "      dtype='object')\n",
      "\n",
      "Target column (y):\n",
      "churn_flag\n"
     ]
    }
   ],
   "source": [
    "\n",
    "# Define the target variable\n",
    "y = X1['churn_flag']\n",
    "# Define the feature variables (all columns except 'product_churn')\n",
    "X = X1.drop(columns=['churn_flag']) \n",
    "\n",
    "\n",
    "# Check columns in X\n",
    "print(\"Columns in X:\")\n",
    "print(X.columns)\n",
    "\n",
    "# Check the name of the target column (y)\n",
    "print(\"\\nTarget column (y):\")\n",
    "print(y.name)"
   ]
  },
  {
   "cell_type": "code",
   "execution_count": null,
   "metadata": {},
   "outputs": [],
   "source": [
    "import pandas as pd\n",
    "\n",
    "# Perform feature selection\n",
    "selector = SelectKBest(score_func=f_classif, k=10)\n",
    "X_new = selector.fit_transform(X, y)\n",
    "\n",
    "# Get the selected feature indices\n",
    "selected_features = selector.get_support(indices=True)\n",
    "\n",
    "# Get the names of the selected features (if X is a DataFrame)\n",
    "if isinstance(X, pd.DataFrame):\n",
    "    feature_names = X.columns[selected_features]\n",
    "    print(\"Selected Features:\")\n",
    "    print(feature_names)\n",
    "else:\n",
    "    print(\"Selected feature indices:\")\n",
    "    print(selected_features)\n",
    "\n",
    "# Output the transformed feature matrix\n",
    "print(\"Transformed Feature Matrix:\")\n",
    "print(X_new)"
   ]
  },
  {
   "cell_type": "code",
   "execution_count": null,
   "metadata": {},
   "outputs": [],
   "source": [
    "import pandas as pd\n",
    "from sklearn.feature_selection import RFE\n",
    "from sklearn.ensemble import RandomForestClassifier\n",
    "\n",
    "# Assuming X is a DataFrame and y is the target variable\n",
    "estimator = RandomForestClassifier()\n",
    "selector = RFE(estimator, n_features_to_select=5, step=1)\n",
    "selector = selector.fit(X, y)\n",
    "\n",
    "# Get the ranking of features\n",
    "ranking = selector.ranking_\n",
    "\n",
    "# If X is a DataFrame, get the feature names\n",
    "if isinstance(X, pd.DataFrame):\n",
    "    feature_names = X.columns\n",
    "    selected_features = feature_names[selector.support_]  # Features selected by RFE\n",
    "    print(\"Selected Features:\")\n",
    "    print(selected_features)\n",
    "\n",
    "    # Display feature rankings\n",
    "    feature_ranking = pd.DataFrame({'Feature': feature_names, 'Ranking': ranking})\n",
    "    print(\"\\nFeature Rankings:\")\n",
    "    print(feature_ranking.sort_values(by='Ranking'))\n",
    "else:\n",
    "    print(\"Feature rankings (indices):\")\n",
    "    print(ranking)\n",
    "\n",
    "\n",
    "\n",
    "\n"
   ]
  },
  {
   "cell_type": "code",
   "execution_count": null,
   "metadata": {},
   "outputs": [],
   "source": [
    "\n",
    "\n",
    "sfs = SequentialFeatureSelector(estimator, n_features_to_select=25, direction='forward')\n",
    "sfs.fit(X, y)\n",
    "\n",
    "# Get the selected feature mask\n",
    "selected_features_mask = sfs.get_support()\n",
    "\n",
    "# If X is a DataFrame, get the feature names\n",
    "if isinstance(X, pd.DataFrame):\n",
    "    feature_names = X.columns.to_numpy()  # Ensure it's a NumPy array\n",
    "    selected_features = feature_names[selected_features_mask]  # Selected features\n",
    "    non_selected_features = feature_names[~selected_features_mask]  # Non-selected features\n",
    "\n",
    "    print(\"Selected Features:\")\n",
    "    print(list(selected_features))\n",
    "\n",
    "    print(\"\\nNon-Selected Features:\")\n",
    "    print(list(non_selected_features))\n",
    "else:\n",
    "    print(\"Selected feature indices:\")\n",
    "    print([i for i, selected in enumerate(selected_features_mask) if selected])\n"
   ]
  },
  {
   "cell_type": "code",
   "execution_count": 37,
   "metadata": {},
   "outputs": [
    {
     "name": "stdout",
     "output_type": "stream",
     "text": [
      "Balanced class distribution: Counter({0: 12769, 1: 12769})\n"
     ]
    }
   ],
   "source": [
    "# Apply SMOTE to balance the dataset\n",
    "from imblearn.over_sampling import SMOTE  # Import SMOTE\n",
    "from collections import Counter\n",
    "\n",
    "\n",
    "\n",
    "smote = SMOTE(sampling_strategy='auto', random_state=42)\n",
    "X_balanced, y_balanced = smote.fit_resample(X, y)\n",
    "\n",
    "X_resampled_df = pd.DataFrame(X_balanced, columns=X_balanced.columns)\n",
    "\n",
    "X_resampled_df[\"churn_flag\"] = y_balanced\n",
    "\n",
    "X_resampled_df.to_csv(\"churn_features_selected.csv\", index=False)\n",
    "\n",
    "# Check new class distribution\n",
    "print(\"Balanced class distribution:\", Counter(y_balanced))"
   ]
  },
  {
   "cell_type": "code",
   "execution_count": 38,
   "metadata": {},
   "outputs": [],
   "source": [
    "X_train, X_test, y_train, y_test = train_test_split(X_balanced, y_balanced, test_size=0.2, random_state=42, stratify=y_balanced)\n",
    "scaler = StandardScaler()\n",
    "scaler = StandardScaler()\n",
    "X_train_scaled = scaler.fit_transform(X_train)  # ✅ Fixed: Apply StandardScaler correctly\n",
    "X_test_scaled = scaler.transform(X_test) "
   ]
  },
  {
   "cell_type": "code",
   "execution_count": 23,
   "metadata": {},
   "outputs": [],
   "source": [
    "from sklearn.model_selection import GridSearchCV\n",
    "\n",
    "param_grid = {\n",
    "    'n_estimators': [50, 100, 200],\n",
    "    'max_depth': [None, 10, 20],\n",
    "    'min_samples_split': [2, 5, 10],\n",
    "    'min_samples_leaf': [1, 2, 4],\n",
    "    'max_features': ['sqrt', 'log2']\n",
    "}\n",
    "\n",
    "grid_search = GridSearchCV(estimator=RandomForestClassifier(random_state=42), param_grid=param_grid, cv=5)\n",
    "grid_search.fit(X_train_scaled, y_train)\n",
    "best_model = grid_search.best_estimator_"
   ]
  },
  {
   "cell_type": "code",
   "execution_count": 39,
   "metadata": {},
   "outputs": [
    {
     "name": "stdout",
     "output_type": "stream",
     "text": [
      "\n",
      "🔹 Random Forest Model Evaluation 🔹\n",
      "Accuracy: 1.0\n",
      "Classification Report:\n",
      "               precision    recall  f1-score   support\n",
      "\n",
      "           0       1.00      1.00      1.00      2554\n",
      "           1       1.00      1.00      1.00      2554\n",
      "\n",
      "    accuracy                           1.00      5108\n",
      "   macro avg       1.00      1.00      1.00      5108\n",
      "weighted avg       1.00      1.00      1.00      5108\n",
      "\n"
     ]
    }
   ],
   "source": [
    "rf_model = RandomForestClassifier(n_estimators=100, random_state=42)\n",
    "rf_model.fit(X_train_scaled, y_train)\n",
    "\n",
    "# Predictions for Random Forest\n",
    "y_pred_rf = rf_model.predict(X_test_scaled)\n",
    "\n",
    "# Evaluate Random Forest\n",
    "print(\"\\n🔹 Random Forest Model Evaluation 🔹\")\n",
    "print(\"Accuracy:\", accuracy_score(y_test, y_pred_rf))\n",
    "print(\"Classification Report:\\n\", classification_report(y_test, y_pred_rf))"
   ]
  },
  {
   "cell_type": "code",
   "execution_count": null,
   "metadata": {},
   "outputs": [],
   "source": []
  },
  {
   "cell_type": "code",
   "execution_count": 40,
   "metadata": {},
   "outputs": [
    {
     "name": "stdout",
     "output_type": "stream",
     "text": [
      "\n",
      "🔹 Logistic Regression Model Evaluation 🔹\n",
      "Accuracy: 0.9162098668754894\n",
      "Classification Report:\n",
      "               precision    recall  f1-score   support\n",
      "\n",
      "           0       0.89      0.95      0.92      2554\n",
      "           1       0.95      0.88      0.91      2554\n",
      "\n",
      "    accuracy                           0.92      5108\n",
      "   macro avg       0.92      0.92      0.92      5108\n",
      "weighted avg       0.92      0.92      0.92      5108\n",
      "\n"
     ]
    }
   ],
   "source": [
    "lr_model = LogisticRegression(max_iter=1000, random_state=42)\n",
    "lr_model.fit(X_train_scaled, y_train)\n",
    "\n",
    "# Predictions for Logistic Regression\n",
    "y_pred_lr = lr_model.predict(X_test_scaled)\n",
    "\n",
    "# Evaluate Logistic Regression\n",
    "print(\"\\n🔹 Logistic Regression Model Evaluation 🔹\")\n",
    "print(\"Accuracy:\", accuracy_score(y_test, y_pred_lr))\n",
    "print(\"Classification Report:\\n\", classification_report(y_test, y_pred_lr))"
   ]
  },
  {
   "cell_type": "code",
   "execution_count": null,
   "metadata": {},
   "outputs": [],
   "source": []
  }
 ],
 "metadata": {
  "kernelspec": {
   "display_name": "Python 3",
   "language": "python",
   "name": "python3"
  },
  "language_info": {
   "codemirror_mode": {
    "name": "ipython",
    "version": 3
   },
   "file_extension": ".py",
   "mimetype": "text/x-python",
   "name": "python",
   "nbconvert_exporter": "python",
   "pygments_lexer": "ipython3",
   "version": "3.12.9"
  }
 },
 "nbformat": 4,
 "nbformat_minor": 2
}
