{
 "cells": [
  {
   "cell_type": "code",
   "execution_count": 2,
   "metadata": {},
   "outputs": [
    {
     "name": "stdout",
     "output_type": "stream",
     "text": [
      "Confusion Matrix:\n",
      " [[4235   22]\n",
      " [   0  216]]\n",
      "\n",
      "Classification Report:\n",
      "               precision    recall  f1-score   support\n",
      "\n",
      "           0       1.00      0.99      1.00      4257\n",
      "           1       0.91      1.00      0.95       216\n",
      "\n",
      "    accuracy                           1.00      4473\n",
      "   macro avg       0.95      1.00      0.97      4473\n",
      "weighted avg       1.00      1.00      1.00      4473\n",
      "\n",
      "Accuracy Score: 0.9950816007154035\n"
     ]
    }
   ],
   "source": [
    "from sklearn.linear_model import LogisticRegression\n",
    "from sklearn.metrics import confusion_matrix, classification_report, accuracy_score\n",
    "from imblearn.pipeline import Pipeline\n",
    "from imblearn.over_sampling import SMOTE\n",
    "from sklearn.model_selection import train_test_split\n",
    "import pandas as pd\n",
    "\n",
    "# Load your ORIGINAL imbalanced dataset\n",
    "dataset = pd.read_csv(\"../feature/original_churn_data.csv\")\n",
    "\n",
    "X = dataset.drop(\"churn_flag\", axis=1)\n",
    "y = dataset[\"churn_flag\"]\n",
    "\n",
    "# Split BEFORE SMOTE\n",
    "X_train, X_test, y_train, y_test = train_test_split(\n",
    "    X, y, test_size=1 / 3, stratify=y, random_state=0\n",
    ")\n",
    "\n",
    "# Build a pipeline with SMOTE + Logistic Regression\n",
    "pipeline = Pipeline(\n",
    "    [\n",
    "        (\"smote\", SMOTE(random_state=42)),\n",
    "        (\n",
    "            \"classifier\",\n",
    "            LogisticRegression(\n",
    "                class_weight=\"balanced\", solver=\"lbfgs\", max_iter=1000, random_state=0\n",
    "            ),\n",
    "        ),\n",
    "    ]\n",
    ")\n",
    "\n",
    "# Train\n",
    "pipeline.fit(X_train, y_train)\n",
    "\n",
    "# Predict\n",
    "y_pred = pipeline.predict(X_test)\n",
    "\n",
    "# Evaluation\n",
    "print(\"Confusion Matrix:\\n\", confusion_matrix(y_test, y_pred))\n",
    "print(\"\\nClassification Report:\\n\", classification_report(y_test, y_pred))\n",
    "print(\"Accuracy Score:\", accuracy_score(y_test, y_pred))"
   ]
  }
 ],
 "metadata": {
  "kernelspec": {
   "display_name": ".venv",
   "language": "python",
   "name": "python3"
  },
  "language_info": {
   "codemirror_mode": {
    "name": "ipython",
    "version": 3
   },
   "file_extension": ".py",
   "mimetype": "text/x-python",
   "name": "python",
   "nbconvert_exporter": "python",
   "pygments_lexer": "ipython3",
   "version": "3.12.7"
  }
 },
 "nbformat": 4,
 "nbformat_minor": 2
}
